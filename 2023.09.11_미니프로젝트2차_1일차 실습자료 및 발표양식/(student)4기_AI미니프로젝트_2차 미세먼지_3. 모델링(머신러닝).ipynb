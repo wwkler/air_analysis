{
 "cells": [
  {
   "cell_type": "code",
   "execution_count": 394,
   "id": "efficient-minutes",
   "metadata": {
    "tags": []
   },
   "outputs": [],
   "source": [
    "# 필요한 라이브러리 설치 및 임포트\n",
    "\n",
    "import pandas as pd\n",
    "import matplotlib.pyplot as plt\n",
    "import seaborn as sns\n",
    "\n",
    "from sklearn.neighbors import KNeighborsRegressor\n",
    "from sklearn.linear_model import LinearRegression, Lasso, Ridge, ElasticNet\n",
    "from sklearn.tree import DecisionTreeRegressor as DTR\n",
    "from sklearn.ensemble import RandomForestRegressor as RFR\n",
    "from sklearn.ensemble import GradientBoostingRegressor as GBR\n",
    "from sklearn.metrics import mean_squared_error as mse\n",
    "from sklearn.metrics import mean_absolute_error as mae\n",
    "from sklearn.metrics import r2_score\n",
    "from sklearn.metrics import f1_score\n",
    "from sklearn.metrics import accuracy_score as acc\n",
    "from sklearn.metrics import recall_score as recall\n",
    "from sklearn.model_selection import GridSearchCV\n",
    "import joblib\n",
    "\n",
    "# 맑은 고딕 폰트를 사용하도록 설정\n",
    "plt.rcParams[\"font.family\"] = 'Malgun Gothic'"
   ]
  },
  {
   "cell_type": "markdown",
   "id": "20aaca37-89d7-4045-affa-5a510c69495e",
   "metadata": {
    "tags": []
   },
   "source": [
    "# [Step 3] 머신러닝 모델링1"
   ]
  },
  {
   "cell_type": "markdown",
   "id": "1a3f4996-4681-4eae-b839-8ad6267387ae",
   "metadata": {
    "tags": []
   },
   "source": [
    "#### **<span style=\"color:blue\">[3-1] 학습 및 테스트 데이터 로딩</span>**"
   ]
  },
  {
   "cell_type": "code",
   "execution_count": 395,
   "id": "changed-arrangement",
   "metadata": {
    "scrolled": true
   },
   "outputs": [],
   "source": [
    "# train_x.csv / train_y.csv / test_x.csv / test_y.csv 4개의 데이터 로딩\n",
    "df_21_X = pd.read_csv('train_x.csv')\n",
    "df_21_Y = pd.read_csv('train_y.csv')\n",
    "df_22_X = pd.read_csv('test_x.csv')\n",
    "df_22_Y = pd.read_csv('test_y.csv')"
   ]
  },
  {
   "cell_type": "code",
   "execution_count": 396,
   "id": "fc5c1a6c-7b7d-4b0e-9fa1-b71f0a209b26",
   "metadata": {
    "tags": []
   },
   "outputs": [
    {
     "data": {
      "text/html": [
       "<div>\n",
       "<style scoped>\n",
       "    .dataframe tbody tr th:only-of-type {\n",
       "        vertical-align: middle;\n",
       "    }\n",
       "\n",
       "    .dataframe tbody tr th {\n",
       "        vertical-align: top;\n",
       "    }\n",
       "\n",
       "    .dataframe thead th {\n",
       "        text-align: right;\n",
       "    }\n",
       "</style>\n",
       "<table border=\"1\" class=\"dataframe\">\n",
       "  <thead>\n",
       "    <tr style=\"text-align: right;\">\n",
       "      <th></th>\n",
       "      <th>CO</th>\n",
       "      <th>PM10</th>\n",
       "      <th>PM25</th>\n",
       "      <th>시정(10m)</th>\n",
       "      <th>7day_Avg_PM10</th>\n",
       "      <th>Rain_Value_가벼운 비</th>\n",
       "      <th>Rain_Value_보통의 비</th>\n",
       "      <th>Rain_Value_비가 오지않음</th>\n",
       "      <th>Rain_Value_심한 비</th>\n",
       "    </tr>\n",
       "  </thead>\n",
       "  <tbody>\n",
       "    <tr>\n",
       "      <th>0</th>\n",
       "      <td>0.4</td>\n",
       "      <td>23.0</td>\n",
       "      <td>12.0</td>\n",
       "      <td>2000</td>\n",
       "      <td>23.0</td>\n",
       "      <td>0</td>\n",
       "      <td>0</td>\n",
       "      <td>1</td>\n",
       "      <td>0</td>\n",
       "    </tr>\n",
       "    <tr>\n",
       "      <th>1</th>\n",
       "      <td>0.4</td>\n",
       "      <td>20.0</td>\n",
       "      <td>9.0</td>\n",
       "      <td>2000</td>\n",
       "      <td>21.5</td>\n",
       "      <td>0</td>\n",
       "      <td>0</td>\n",
       "      <td>1</td>\n",
       "      <td>0</td>\n",
       "    </tr>\n",
       "    <tr>\n",
       "      <th>2</th>\n",
       "      <td>0.5</td>\n",
       "      <td>20.0</td>\n",
       "      <td>9.0</td>\n",
       "      <td>2000</td>\n",
       "      <td>21.0</td>\n",
       "      <td>0</td>\n",
       "      <td>0</td>\n",
       "      <td>1</td>\n",
       "      <td>0</td>\n",
       "    </tr>\n",
       "    <tr>\n",
       "      <th>3</th>\n",
       "      <td>0.5</td>\n",
       "      <td>19.0</td>\n",
       "      <td>10.0</td>\n",
       "      <td>2000</td>\n",
       "      <td>20.5</td>\n",
       "      <td>0</td>\n",
       "      <td>0</td>\n",
       "      <td>1</td>\n",
       "      <td>0</td>\n",
       "    </tr>\n",
       "    <tr>\n",
       "      <th>4</th>\n",
       "      <td>0.5</td>\n",
       "      <td>24.0</td>\n",
       "      <td>11.0</td>\n",
       "      <td>2000</td>\n",
       "      <td>21.2</td>\n",
       "      <td>0</td>\n",
       "      <td>0</td>\n",
       "      <td>1</td>\n",
       "      <td>0</td>\n",
       "    </tr>\n",
       "  </tbody>\n",
       "</table>\n",
       "</div>"
      ],
      "text/plain": [
       "    CO  PM10  PM25  시정(10m)  7day_Avg_PM10  Rain_Value_가벼운 비  \\\n",
       "0  0.4  23.0  12.0     2000           23.0                 0   \n",
       "1  0.4  20.0   9.0     2000           21.5                 0   \n",
       "2  0.5  20.0   9.0     2000           21.0                 0   \n",
       "3  0.5  19.0  10.0     2000           20.5                 0   \n",
       "4  0.5  24.0  11.0     2000           21.2                 0   \n",
       "\n",
       "   Rain_Value_보통의 비  Rain_Value_비가 오지않음  Rain_Value_심한 비  \n",
       "0                 0                   1                0  \n",
       "1                 0                   1                0  \n",
       "2                 0                   1                0  \n",
       "3                 0                   1                0  \n",
       "4                 0                   1                0  "
      ]
     },
     "execution_count": 396,
     "metadata": {},
     "output_type": "execute_result"
    }
   ],
   "source": [
    "df_22_X.head()"
   ]
  },
  {
   "cell_type": "code",
   "execution_count": 397,
   "id": "c6391ecb-60ec-46a0-8422-610fdd648d60",
   "metadata": {
    "tags": []
   },
   "outputs": [],
   "source": [
    "# 스케일링 작업\n",
    "# x(features) 값의 범위를 0~ 1로 통일한다.\n",
    "from sklearn.preprocessing import MinMaxScaler\n",
    "scaler = MinMaxScaler()\n",
    "scaler.fit(df_21_X)\n",
    "df_21_X = scaler.transform(df_21_X)\n",
    "df_22_X = scaler.transform(df_22_X)\n",
    "\n",
    "df_21_X = pd.DataFrame(df_21_X, columns = ['CO', 'PM10', 'PM25', '시정(10m)', '7day_Avg_PM10', 'Rain_Value_가벼운 비', 'Rain_Value_보통의 비', 'Rain_Value_비가 오지않음', 'Rain_Value_심한 비'])\n",
    "df_22_X = pd.DataFrame(df_22_X, columns = ['CO', 'PM10', 'PM25', '시정(10m)', '7day_Avg_PM10', 'Rain_Value_가벼운 비', 'Rain_Value_보통의 비', 'Rain_Value_비가 오지않음', 'Rain_Value_심한 비'])"
   ]
  },
  {
   "cell_type": "code",
   "execution_count": 398,
   "id": "1bee8949-e803-4696-a5a5-02ad4f54c906",
   "metadata": {
    "tags": []
   },
   "outputs": [
    {
     "data": {
      "text/html": [
       "<div>\n",
       "<style scoped>\n",
       "    .dataframe tbody tr th:only-of-type {\n",
       "        vertical-align: middle;\n",
       "    }\n",
       "\n",
       "    .dataframe tbody tr th {\n",
       "        vertical-align: top;\n",
       "    }\n",
       "\n",
       "    .dataframe thead th {\n",
       "        text-align: right;\n",
       "    }\n",
       "</style>\n",
       "<table border=\"1\" class=\"dataframe\">\n",
       "  <thead>\n",
       "    <tr style=\"text-align: right;\">\n",
       "      <th></th>\n",
       "      <th>CO</th>\n",
       "      <th>PM10</th>\n",
       "      <th>PM25</th>\n",
       "      <th>시정(10m)</th>\n",
       "      <th>7day_Avg_PM10</th>\n",
       "      <th>Rain_Value_가벼운 비</th>\n",
       "      <th>Rain_Value_보통의 비</th>\n",
       "      <th>Rain_Value_비가 오지않음</th>\n",
       "      <th>Rain_Value_심한 비</th>\n",
       "    </tr>\n",
       "  </thead>\n",
       "  <tbody>\n",
       "    <tr>\n",
       "      <th>0</th>\n",
       "      <td>0.166667</td>\n",
       "      <td>0.022364</td>\n",
       "      <td>0.084967</td>\n",
       "      <td>1.0</td>\n",
       "      <td>0.025249</td>\n",
       "      <td>0.0</td>\n",
       "      <td>0.0</td>\n",
       "      <td>1.0</td>\n",
       "      <td>0.0</td>\n",
       "    </tr>\n",
       "    <tr>\n",
       "      <th>1</th>\n",
       "      <td>0.222222</td>\n",
       "      <td>0.023429</td>\n",
       "      <td>0.084967</td>\n",
       "      <td>1.0</td>\n",
       "      <td>0.025850</td>\n",
       "      <td>0.0</td>\n",
       "      <td>0.0</td>\n",
       "      <td>1.0</td>\n",
       "      <td>0.0</td>\n",
       "    </tr>\n",
       "    <tr>\n",
       "      <th>2</th>\n",
       "      <td>0.222222</td>\n",
       "      <td>0.025559</td>\n",
       "      <td>0.098039</td>\n",
       "      <td>1.0</td>\n",
       "      <td>0.026852</td>\n",
       "      <td>0.0</td>\n",
       "      <td>0.0</td>\n",
       "      <td>1.0</td>\n",
       "      <td>0.0</td>\n",
       "    </tr>\n",
       "    <tr>\n",
       "      <th>3</th>\n",
       "      <td>0.222222</td>\n",
       "      <td>0.021299</td>\n",
       "      <td>0.078431</td>\n",
       "      <td>1.0</td>\n",
       "      <td>0.026151</td>\n",
       "      <td>0.0</td>\n",
       "      <td>0.0</td>\n",
       "      <td>1.0</td>\n",
       "      <td>0.0</td>\n",
       "    </tr>\n",
       "    <tr>\n",
       "      <th>4</th>\n",
       "      <td>0.222222</td>\n",
       "      <td>0.022364</td>\n",
       "      <td>0.084967</td>\n",
       "      <td>1.0</td>\n",
       "      <td>0.025970</td>\n",
       "      <td>0.0</td>\n",
       "      <td>0.0</td>\n",
       "      <td>1.0</td>\n",
       "      <td>0.0</td>\n",
       "    </tr>\n",
       "  </tbody>\n",
       "</table>\n",
       "</div>"
      ],
      "text/plain": [
       "         CO      PM10      PM25  시정(10m)  7day_Avg_PM10  Rain_Value_가벼운 비  \\\n",
       "0  0.166667  0.022364  0.084967      1.0       0.025249               0.0   \n",
       "1  0.222222  0.023429  0.084967      1.0       0.025850               0.0   \n",
       "2  0.222222  0.025559  0.098039      1.0       0.026852               0.0   \n",
       "3  0.222222  0.021299  0.078431      1.0       0.026151               0.0   \n",
       "4  0.222222  0.022364  0.084967      1.0       0.025970               0.0   \n",
       "\n",
       "   Rain_Value_보통의 비  Rain_Value_비가 오지않음  Rain_Value_심한 비  \n",
       "0               0.0                 1.0              0.0  \n",
       "1               0.0                 1.0              0.0  \n",
       "2               0.0                 1.0              0.0  \n",
       "3               0.0                 1.0              0.0  \n",
       "4               0.0                 1.0              0.0  "
      ]
     },
     "execution_count": 398,
     "metadata": {},
     "output_type": "execute_result"
    }
   ],
   "source": [
    "df_21_X.head()"
   ]
  },
  {
   "cell_type": "markdown",
   "id": "2084ca1a",
   "metadata": {},
   "source": [
    "---"
   ]
  },
  {
   "cell_type": "markdown",
   "id": "66dca0e8-a0d1-4562-8afe-3e8f85733393",
   "metadata": {
    "tags": []
   },
   "source": [
    "#### **<span style=\"color:blue\">[3-2] 모델링: LinearRegression</span>**"
   ]
  },
  {
   "cell_type": "markdown",
   "id": "joined-client",
   "metadata": {},
   "source": [
    "* Train과 Test로 나눈 데이터를 기준으로 LinearRegression 모델링을 진행하고 평가를 해주세요.\n",
    "* 그리고 모델 파일을 pkl로 저장해주세요.\n",
    "* 성능지표 : MSE, R-squared Score(소수점 5째자리까지)"
   ]
  },
  {
   "cell_type": "code",
   "execution_count": 399,
   "id": "willing-disclaimer",
   "metadata": {},
   "outputs": [
    {
     "data": {
      "text/html": [
       "<style>#sk-container-id-15 {color: black;background-color: white;}#sk-container-id-15 pre{padding: 0;}#sk-container-id-15 div.sk-toggleable {background-color: white;}#sk-container-id-15 label.sk-toggleable__label {cursor: pointer;display: block;width: 100%;margin-bottom: 0;padding: 0.3em;box-sizing: border-box;text-align: center;}#sk-container-id-15 label.sk-toggleable__label-arrow:before {content: \"▸\";float: left;margin-right: 0.25em;color: #696969;}#sk-container-id-15 label.sk-toggleable__label-arrow:hover:before {color: black;}#sk-container-id-15 div.sk-estimator:hover label.sk-toggleable__label-arrow:before {color: black;}#sk-container-id-15 div.sk-toggleable__content {max-height: 0;max-width: 0;overflow: hidden;text-align: left;background-color: #f0f8ff;}#sk-container-id-15 div.sk-toggleable__content pre {margin: 0.2em;color: black;border-radius: 0.25em;background-color: #f0f8ff;}#sk-container-id-15 input.sk-toggleable__control:checked~div.sk-toggleable__content {max-height: 200px;max-width: 100%;overflow: auto;}#sk-container-id-15 input.sk-toggleable__control:checked~label.sk-toggleable__label-arrow:before {content: \"▾\";}#sk-container-id-15 div.sk-estimator input.sk-toggleable__control:checked~label.sk-toggleable__label {background-color: #d4ebff;}#sk-container-id-15 div.sk-label input.sk-toggleable__control:checked~label.sk-toggleable__label {background-color: #d4ebff;}#sk-container-id-15 input.sk-hidden--visually {border: 0;clip: rect(1px 1px 1px 1px);clip: rect(1px, 1px, 1px, 1px);height: 1px;margin: -1px;overflow: hidden;padding: 0;position: absolute;width: 1px;}#sk-container-id-15 div.sk-estimator {font-family: monospace;background-color: #f0f8ff;border: 1px dotted black;border-radius: 0.25em;box-sizing: border-box;margin-bottom: 0.5em;}#sk-container-id-15 div.sk-estimator:hover {background-color: #d4ebff;}#sk-container-id-15 div.sk-parallel-item::after {content: \"\";width: 100%;border-bottom: 1px solid gray;flex-grow: 1;}#sk-container-id-15 div.sk-label:hover label.sk-toggleable__label {background-color: #d4ebff;}#sk-container-id-15 div.sk-serial::before {content: \"\";position: absolute;border-left: 1px solid gray;box-sizing: border-box;top: 0;bottom: 0;left: 50%;z-index: 0;}#sk-container-id-15 div.sk-serial {display: flex;flex-direction: column;align-items: center;background-color: white;padding-right: 0.2em;padding-left: 0.2em;position: relative;}#sk-container-id-15 div.sk-item {position: relative;z-index: 1;}#sk-container-id-15 div.sk-parallel {display: flex;align-items: stretch;justify-content: center;background-color: white;position: relative;}#sk-container-id-15 div.sk-item::before, #sk-container-id-15 div.sk-parallel-item::before {content: \"\";position: absolute;border-left: 1px solid gray;box-sizing: border-box;top: 0;bottom: 0;left: 50%;z-index: -1;}#sk-container-id-15 div.sk-parallel-item {display: flex;flex-direction: column;z-index: 1;position: relative;background-color: white;}#sk-container-id-15 div.sk-parallel-item:first-child::after {align-self: flex-end;width: 50%;}#sk-container-id-15 div.sk-parallel-item:last-child::after {align-self: flex-start;width: 50%;}#sk-container-id-15 div.sk-parallel-item:only-child::after {width: 0;}#sk-container-id-15 div.sk-dashed-wrapped {border: 1px dashed gray;margin: 0 0.4em 0.5em 0.4em;box-sizing: border-box;padding-bottom: 0.4em;background-color: white;}#sk-container-id-15 div.sk-label label {font-family: monospace;font-weight: bold;display: inline-block;line-height: 1.2em;}#sk-container-id-15 div.sk-label-container {text-align: center;}#sk-container-id-15 div.sk-container {/* jupyter's `normalize.less` sets `[hidden] { display: none; }` but bootstrap.min.css set `[hidden] { display: none !important; }` so we also need the `!important` here to be able to override the default hidden behavior on the sphinx rendered scikit-learn.org. See: https://github.com/scikit-learn/scikit-learn/issues/21755 */display: inline-block !important;position: relative;}#sk-container-id-15 div.sk-text-repr-fallback {display: none;}</style><div id=\"sk-container-id-15\" class=\"sk-top-container\"><div class=\"sk-text-repr-fallback\"><pre>LinearRegression()</pre><b>In a Jupyter environment, please rerun this cell to show the HTML representation or trust the notebook. <br />On GitHub, the HTML representation is unable to render, please try loading this page with nbviewer.org.</b></div><div class=\"sk-container\" hidden><div class=\"sk-item\"><div class=\"sk-estimator sk-toggleable\"><input class=\"sk-toggleable__control sk-hidden--visually\" id=\"sk-estimator-id-23\" type=\"checkbox\" checked><label for=\"sk-estimator-id-23\" class=\"sk-toggleable__label sk-toggleable__label-arrow\">LinearRegression</label><div class=\"sk-toggleable__content\"><pre>LinearRegression()</pre></div></div></div></div></div>"
      ],
      "text/plain": [
       "LinearRegression()"
      ]
     },
     "execution_count": 399,
     "metadata": {},
     "output_type": "execute_result"
    }
   ],
   "source": [
    "# LinearRegression 코드를 작성하세요.\n",
    "LR = LinearRegression()\n",
    "\n",
    "LR.fit(df_21_X, df_21_Y)"
   ]
  },
  {
   "cell_type": "code",
   "execution_count": 400,
   "id": "34e3d420-703f-4de5-bd81-4b1b167318e2",
   "metadata": {},
   "outputs": [],
   "source": [
    "# predict로 예측하여 y_pred_LR에 저장해보세요.\n",
    "y_pred = LR.predict(df_22_X)"
   ]
  },
  {
   "cell_type": "code",
   "execution_count": 401,
   "id": "beb342fd-f54d-44fd-b319-37dd0485ca11",
   "metadata": {
    "tags": []
   },
   "outputs": [
    {
     "name": "stdout",
     "output_type": "stream",
     "text": [
      "예측값 10개 :  [23.3049260888712, 20.405370049025993, 20.849706522019446, 19.72003038367461, 25.154100746888354, 19.95539829104444, 25.264164175828164, 28.387247619745608, 27.45800167949904, 22.711454807403975]\n",
      "실제값 10개 :  [20.0, 20.0, 19.0, 24.0, 19.0, 24.0, 27.0, 26.0, 22.0, 22.0]\n"
     ]
    }
   ],
   "source": [
    "# 예측값과 실제값 비교\n",
    "predict = list(y_pred.flatten()[0:10:1])\n",
    "real = list(df_22_Y['PM10_1'][0:10:1])\n",
    "print('예측값 10개 : ', predict)\n",
    "print('실제값 10개 : ', real)"
   ]
  },
  {
   "cell_type": "code",
   "execution_count": 402,
   "id": "0a21d60f",
   "metadata": {},
   "outputs": [
    {
     "name": "stdout",
     "output_type": "stream",
     "text": [
      "mse :  36.615024251185154\n",
      "mae :  3.9034997737955197\n",
      "r2 :  0.9337486810879552\n"
     ]
    }
   ],
   "source": [
    "# test_y 데이터와 y_pred_LR 데이터로 성능을 평가하여 출력해보세요.\n",
    "# 성능지표는 mse와 r2를 이용하세요.\n",
    "print('mse : ', mse(df_22_Y, y_pred))\n",
    "print('mae : ', mae(df_22_Y, y_pred))\n",
    "print('r2 : ', r2_score(df_22_Y, y_pred))"
   ]
  },
  {
   "cell_type": "code",
   "execution_count": 403,
   "id": "fe2096b7",
   "metadata": {},
   "outputs": [
    {
     "data": {
      "image/png": "[encoded data removed]",
      "text/plain": [
       "<Figure size 1000x500 with 1 Axes>"
      ]
     },
     "metadata": {},
     "output_type": "display_data"
    }
   ],
   "source": [
    "# 예측값과 실제값 시각화\n",
    "plt.figure(figsize=(10, 5))\n",
    "plt.plot(df_22_Y, label='actual')\n",
    "plt.plot(y_pred, label='predict')\n",
    "plt.xlabel('데이터 개수')\n",
    "plt.ylabel('PM10') \n",
    "plt.legend()\n",
    "plt.grid()\n",
    "plt.show()"
   ]
  },
  {
   "cell_type": "markdown",
   "id": "44e1265e-939a-41d6-87cd-98211da2b7d1",
   "metadata": {
    "tags": []
   },
   "source": [
    "# [Step 4] 머신러닝 모델링2"
   ]
  },
  {
   "cell_type": "markdown",
   "id": "093d7a22-50bd-401d-9655-30002e8b5985",
   "metadata": {
    "jp-MarkdownHeadingCollapsed": true,
    "tags": []
   },
   "source": [
    "#### **<span style=\"color:blue\">(선택 수행)[4-1] 모델링: 랜덤포레스트</span>**"
   ]
  },
  {
   "cell_type": "markdown",
   "id": "crazy-escape",
   "metadata": {},
   "source": [
    "* 랜덤포레스트: 배깅의 일종으로 의사결정나무(Decision Tree) 여러 개를 모아서 숲을 랜덤으로 구성하고 이를 종합해서 최종 모델을 산출하는 기법\n",
    "* Train과 Test로 나눈 데이터를 기준으로 렌덤포레스트로 모델을 학습을 진행하고 평가를 해주세요.\n",
    "* 그리고 모델 파일을 pkl로 저장해주세요.\n",
    "* 성능지표 : MSE, R-squared Score(소수점 5째자리까지)"
   ]
  },
  {
   "cell_type": "code",
   "execution_count": 404,
   "id": "guilty-score",
   "metadata": {},
   "outputs": [],
   "source": [
    "# 아래에 필요한 코드를 작성하고 결과를 확인합니다.\n",
    "\n"
   ]
  },
  {
   "cell_type": "code",
   "execution_count": 405,
   "id": "10b33a11",
   "metadata": {},
   "outputs": [],
   "source": [
    "# Test 데이터로 성능을 평가해보세요.\n",
    "\n",
    "\n"
   ]
  },
  {
   "cell_type": "code",
   "execution_count": 406,
   "id": "41971ff8",
   "metadata": {},
   "outputs": [],
   "source": [
    "# 학습한 모델을 파일로 저장해보세요.\n",
    "\n"
   ]
  },
  {
   "cell_type": "code",
   "execution_count": 407,
   "id": "e19f84b0",
   "metadata": {},
   "outputs": [],
   "source": [
    "# (다음 진행은 선택입니다)\n",
    "# 렌덤포레스트로 학습한 모델의 feature_importances를 구해보세요.\n",
    "# 확인할 수 있는 내용으로 우리 모델에서의 인사이트를 정리해보세요.\n",
    "# Feature의 중요도 확인\n",
    "\n"
   ]
  },
  {
   "cell_type": "code",
   "execution_count": 408,
   "id": "af7989f3",
   "metadata": {},
   "outputs": [],
   "source": [
    "# (선택) 확인할 수 있는 인사이트\n",
    "# 1.\n",
    "# 2.\n",
    "# 3."
   ]
  },
  {
   "cell_type": "markdown",
   "id": "95401368-9bff-4118-b07a-92b833e33f20",
   "metadata": {
    "jp-MarkdownHeadingCollapsed": true,
    "tags": []
   },
   "source": [
    "#### **<span style=\"color:blue\">(선택 수행)[4-2] 모델링: GradientBoosting</span>**"
   ]
  },
  {
   "cell_type": "markdown",
   "id": "convinced-vocabulary",
   "metadata": {},
   "source": [
    "* GradientBoosting: 앞선 모델의 에러를 다음 모델의 예측 값으로 활용하면서 가중치 업데이트 하는데 경사하강법(Gradient Descent)를 활용해서 최적 모델을 만드는 기법\n",
    "* Train과 Test로 나눈 데이터를 기준으로 그라디언트부스팅으로 모델을 학습을 진행하고 평가를 해주세요.\n",
    "* 그리고 모델 파일을 pkl로 저장해주세요.\n",
    "* 성능지표 : RMSE, R-squared Score(소수점 5째자리까지)"
   ]
  },
  {
   "cell_type": "code",
   "execution_count": 409,
   "id": "continent-olympus",
   "metadata": {},
   "outputs": [],
   "source": [
    "# 아래에 필요한 코드를 작성하고 결과를 확인합니다.\n",
    "\n"
   ]
  },
  {
   "cell_type": "code",
   "execution_count": 410,
   "id": "241dbcdc",
   "metadata": {},
   "outputs": [],
   "source": [
    "# Test 데이터로 성능을 평가해보세요.\n",
    "\n",
    "\n"
   ]
  },
  {
   "cell_type": "code",
   "execution_count": 411,
   "id": "9bdccb80",
   "metadata": {},
   "outputs": [],
   "source": [
    "# 학습한 모델을 파일로 저장해보세요.\n",
    "\n",
    "\n"
   ]
  },
  {
   "cell_type": "code",
   "execution_count": 412,
   "id": "8deba58d",
   "metadata": {},
   "outputs": [],
   "source": [
    "# (다음 진행은 선택입니다)\n",
    "# 그라디언트부스팅으로 학습한 모델의 feature_importances를 구해보세요.\n",
    "# 확인할 수 있는 내용으로 우리 모델에서의 인사이트를 정리해보세요.\n",
    "# Feature의 중요도 확인\n",
    "\n",
    "\n"
   ]
  },
  {
   "cell_type": "code",
   "execution_count": 413,
   "id": "9d1bfe7d",
   "metadata": {
    "tags": []
   },
   "outputs": [],
   "source": [
    "# 확인할 수 있는 인사이트\n",
    "# 1.\n",
    "# 2.\n",
    "# 3."
   ]
  },
  {
   "cell_type": "markdown",
   "id": "eb89852b-b155-4f0a-aaef-2a035caccda7",
   "metadata": {
    "tags": []
   },
   "source": [
    "#### **<span style=\"color:blue\">(선택 수행)[4-3] 모델링: Self Choice Model</span>**"
   ]
  },
  {
   "cell_type": "markdown",
   "id": "305bbd5b",
   "metadata": {},
   "source": [
    "* Self Choice Model: 앞선 교육과정에서 배운 머신러닝 모델 중 어떤 것이든 좋습니다. 원하는 모델을 선택해서 학습을 시켜보세요.\n",
    "* Train과 Test로 나눈 데이터를 기준으로 Self Choice Model로 모델을 학습을 진행하고 평가를 해주세요.\n",
    "* 그리고 모델 파일을 pkl로 저장해주세요.\n",
    "* 성능지표 : RMSE, R-squared Score(소수점 5째자리까지)"
   ]
  },
  {
   "cell_type": "code",
   "execution_count": 414,
   "id": "2baee801-d871-4614-b301-5b51ad01f1d0",
   "metadata": {
    "tags": []
   },
   "outputs": [],
   "source": [
    "# KNN\n",
    "KNN = KNeighborsRegressor(n_neighbors=10)\n",
    "\n",
    "KNN.fit(df_21_X, df_21_Y)\n",
    "\n",
    "y_pred = KNN.predict(df_22_X)"
   ]
  },
  {
   "cell_type": "code",
   "execution_count": 415,
   "id": "917f8b8c-3602-494f-9970-04a26bf82e36",
   "metadata": {
    "tags": []
   },
   "outputs": [
    {
     "name": "stdout",
     "output_type": "stream",
     "text": [
      "예측값 10개 :  [23.5, 19.7, 19.7, 20.5, 21.5, 20.65, 27.3, 26.0, 25.05, 21.4]\n",
      "실제값 10개 :  [20.0, 20.0, 19.0, 24.0, 19.0, 24.0, 27.0, 26.0, 22.0, 22.0]\n"
     ]
    }
   ],
   "source": [
    "# 예측값과 실제값 비교\n",
    "predict = list(y_pred.flatten()[0:10:1])\n",
    "real = list(df_22_Y['PM10_1'][0:10:1])\n",
    "print('예측값 10개 : ', predict)\n",
    "print('실제값 10개 : ', real)"
   ]
  },
  {
   "cell_type": "code",
   "execution_count": 416,
   "id": "9b2541e5-8467-456a-bcaa-9954e216d550",
   "metadata": {
    "tags": []
   },
   "outputs": [
    {
     "name": "stdout",
     "output_type": "stream",
     "text": [
      "mse :  81.33150105963531\n",
      "rmse :  9.018397920896778\n",
      "mae :  5.981443622792587\n",
      "r2 :  0.8528385731132541\n"
     ]
    }
   ],
   "source": [
    "# test_y 데이터와 y_pred_LR 데이터로 성능을 평가하여 출력해보세요.\n",
    "# 성능지표는 mse와 r2를 이용하세요.\n",
    "print('mse : ', mse(df_22_Y, y_pred))\n",
    "print('rmse : ', mse(df_22_Y, y_pred) ** 0.5)\n",
    "print('mae : ', mae(df_22_Y, y_pred))\n",
    "print('r2 : ', r2_score(df_22_Y, y_pred))"
   ]
  },
  {
   "cell_type": "code",
   "execution_count": null,
   "id": "267503ef-5e2d-4214-8de5-23c89c1e3f52",
   "metadata": {},
   "outputs": [],
   "source": []
  },
  {
   "cell_type": "code",
   "execution_count": 417,
   "id": "743368be-555a-4340-a92a-cec882753079",
   "metadata": {
    "tags": []
   },
   "outputs": [],
   "source": [
    "# Decision Tree\n",
    "DT = DTR(max_depth=8)\n",
    "\n",
    "DT.fit(df_21_X, df_21_Y)\n",
    "\n",
    "y_pred = DT.predict(df_22_X)"
   ]
  },
  {
   "cell_type": "code",
   "execution_count": 418,
   "id": "9d6c5a83-f44f-4e74-a0d8-0e9a0cb12c39",
   "metadata": {
    "tags": []
   },
   "outputs": [
    {
     "name": "stdout",
     "output_type": "stream",
     "text": [
      "예측값 10개 :  [22.77777777777778, 20.695575221238936, 20.695575221238936, 18.92156862745098, 24.41062801932367, 18.92156862745098, 24.41062801932367, 27.687637969094926, 25.883582089552238, 21.741622574955905]\n",
      "실제값 10개 :  [20.0, 20.0, 19.0, 24.0, 19.0, 24.0, 27.0, 26.0, 22.0, 22.0]\n"
     ]
    }
   ],
   "source": [
    "# 예측값과 실제값 비교\n",
    "predict = list(y_pred.flatten()[0:10:1])\n",
    "real = list(df_22_Y['PM10_1'][0:10:1])\n",
    "print('예측값 10개 : ', predict)\n",
    "print('실제값 10개 : ', real)"
   ]
  },
  {
   "cell_type": "code",
   "execution_count": 419,
   "id": "b80674f0-053f-4112-a1a7-07b8144d159b",
   "metadata": {
    "tags": []
   },
   "outputs": [
    {
     "name": "stdout",
     "output_type": "stream",
     "text": [
      "mse :  56.40727122052505\n",
      "rmse :  7.510477429599602\n",
      "mae :  4.2140793582068055\n",
      "r2 :  0.897936538592672\n"
     ]
    }
   ],
   "source": [
    "# test_y 데이터와 y_pred_LR 데이터로 성능을 평가하여 출력해보세요.\n",
    "# 성능지표는 mse와 r2를 이용하세요.\n",
    "print('mse : ', mse(df_22_Y, y_pred))\n",
    "print('rmse : ', mse(df_22_Y, y_pred) ** 0.5)\n",
    "print('mae : ', mae(df_22_Y, y_pred))\n",
    "print('r2 : ', r2_score(df_22_Y, y_pred))"
   ]
  },
  {
   "cell_type": "code",
   "execution_count": null,
   "id": "b915bf7e-a7ab-4dc9-bdba-ccf585479b41",
   "metadata": {},
   "outputs": [],
   "source": []
  },
  {
   "cell_type": "code",
   "execution_count": 420,
   "id": "64970da0-c885-4784-aec5-9857f42ca70d",
   "metadata": {},
   "outputs": [],
   "source": [
    "# RandomForest"
   ]
  },
  {
   "cell_type": "code",
   "execution_count": 421,
   "id": "a6da2d79-a0e4-416f-982e-8fdedfd8fdcd",
   "metadata": {
    "tags": []
   },
   "outputs": [
    {
     "name": "stderr",
     "output_type": "stream",
     "text": [
      "C:\\Users\\user\\AppData\\Local\\Temp\\ipykernel_14848\\2519420311.py:3: DataConversionWarning: A column-vector y was passed when a 1d array was expected. Please change the shape of y to (n_samples,), for example using ravel().\n",
      "  RF.fit(df_21_X, df_21_Y)\n"
     ]
    }
   ],
   "source": [
    "RF = RFR(n_estimators=50, max_depth=None)\n",
    "\n",
    "RF.fit(df_21_X, df_21_Y)\n",
    "\n",
    "y_pred = RF.predict(df_22_X)"
   ]
  },
  {
   "cell_type": "code",
   "execution_count": 422,
   "id": "77b175ba-ca83-4582-92a1-d24420a28337",
   "metadata": {
    "tags": []
   },
   "outputs": [
    {
     "name": "stdout",
     "output_type": "stream",
     "text": [
      "예측값 10개 :  [23.78, 20.54, 21.28, 18.94, 26.38, 17.6, 26.56, 28.14, 27.72, 25.04]\n",
      "실제값 10개 :  [20.0, 20.0, 19.0, 24.0, 19.0, 24.0, 27.0, 26.0, 22.0, 22.0]\n"
     ]
    }
   ],
   "source": [
    "# 예측값과 실제값 비교\n",
    "predict = list(y_pred.flatten()[0:10:1])\n",
    "real = list(df_22_Y['PM10_1'][0:10:1])\n",
    "print('예측값 10개 : ', predict)\n",
    "print('실제값 10개 : ', real)"
   ]
  },
  {
   "cell_type": "code",
   "execution_count": 423,
   "id": "f97a61fa-1b30-4893-9b53-4c2356a611d6",
   "metadata": {
    "tags": []
   },
   "outputs": [
    {
     "name": "stdout",
     "output_type": "stream",
     "text": [
      "mse :  40.447196380687465\n",
      "rmse :  6.359811033410306\n",
      "mae :  4.199424076047289\n",
      "r2 :  0.9268147389953375\n"
     ]
    }
   ],
   "source": [
    "# test_y 데이터와 y_pred_LR 데이터로 성능을 평가하여 출력해보세요.\n",
    "# 성능지표는 mse와 r2를 이용하세요.\n",
    "print('mse : ', mse(df_22_Y, y_pred))\n",
    "print('rmse : ', mse(df_22_Y, y_pred) ** 0.5)\n",
    "print('mae : ', mae(df_22_Y, y_pred))\n",
    "print('r2 : ', r2_score(df_22_Y, y_pred))"
   ]
  },
  {
   "cell_type": "code",
   "execution_count": null,
   "id": "e562f811-4d42-45a0-9f04-51b89f380c38",
   "metadata": {},
   "outputs": [],
   "source": []
  },
  {
   "cell_type": "code",
   "execution_count": 424,
   "id": "bb00c052-4933-4b2c-a4d4-6b515f217f43",
   "metadata": {
    "tags": []
   },
   "outputs": [
    {
     "name": "stderr",
     "output_type": "stream",
     "text": [
      "C:\\Users\\user\\anaconda3\\Lib\\site-packages\\sklearn\\ensemble\\_gb.py:437: DataConversionWarning: A column-vector y was passed when a 1d array was expected. Please change the shape of y to (n_samples, ), for example using ravel().\n",
      "  y = column_or_1d(y, warn=True)\n"
     ]
    }
   ],
   "source": [
    "# Gradient Boosting\n",
    "GB = GBR(learning_rate=0.1, n_estimators=101, max_depth=3)\n",
    "\n",
    "GB.fit(df_21_X, df_21_Y)\n",
    "\n",
    "y_pred = GB.predict(df_22_X)"
   ]
  },
  {
   "cell_type": "code",
   "execution_count": 425,
   "id": "72cdfc70-5a9a-4cdf-93d2-5d44aba23800",
   "metadata": {
    "tags": []
   },
   "outputs": [
    {
     "name": "stdout",
     "output_type": "stream",
     "text": [
      "예측값 10개 :  [23.019422482603233, 20.356005077035686, 20.818022892735, 19.746998455610584, 25.250290405576422, 20.024212326069797, 25.527504276035636, 27.423013524010646, 26.435989450649075, 22.247600824617656]\n",
      "실제값 10개 :  [20.0, 20.0, 19.0, 24.0, 19.0, 24.0, 27.0, 26.0, 22.0, 22.0]\n"
     ]
    }
   ],
   "source": [
    "# 예측값과 실제값 비교\n",
    "predict = list(y_pred.flatten()[0:10:1])\n",
    "real = list(df_22_Y['PM10_1'][0:10:1])\n",
    "print('예측값 10개 : ', predict)\n",
    "print('실제값 10개 : ', real)"
   ]
  },
  {
   "cell_type": "code",
   "execution_count": 426,
   "id": "f0665918-c653-4ee1-bd58-1167d35c24fc",
   "metadata": {
    "tags": []
   },
   "outputs": [
    {
     "name": "stdout",
     "output_type": "stream",
     "text": [
      "mse :  33.616353645110195\n",
      "rmse :  5.79796116278043\n",
      "mae :  3.800400570192615\n",
      "r2 :  0.9391744833835474\n"
     ]
    }
   ],
   "source": [
    "# test_y 데이터와 y_pred_LR 데이터로 성능을 평가하여 출력해보세요.\n",
    "# 성능지표는 mse와 r2를 이용하세요.\n",
    "print('mse : ', mse(df_22_Y, y_pred))\n",
    "print('rmse : ', mse(df_22_Y, y_pred) ** 0.5)\n",
    "print('mae : ', mae(df_22_Y, y_pred))\n",
    "print('r2 : ', r2_score(df_22_Y, y_pred))"
   ]
  },
  {
   "cell_type": "code",
   "execution_count": null,
   "id": "30a031e4-7312-4fa3-8b01-9ad2517dd1a6",
   "metadata": {},
   "outputs": [],
   "source": []
  },
  {
   "cell_type": "code",
   "execution_count": 427,
   "id": "7320b095-a8d6-46a5-b7d3-b050154c2e29",
   "metadata": {
    "tags": []
   },
   "outputs": [],
   "source": [
    "# XGBoost\n",
    "import xgboost\n",
    "\n",
    "XGB = xgboost.XGBRegressor()\n",
    "\n",
    "XGB.fit(df_21_X, df_21_Y)\n",
    "\n",
    "y_pred = XGB.predict(df_22_X)"
   ]
  },
  {
   "cell_type": "code",
   "execution_count": 428,
   "id": "7b89622a-0532-4476-b5a9-131676077394",
   "metadata": {
    "tags": []
   },
   "outputs": [
    {
     "name": "stdout",
     "output_type": "stream",
     "text": [
      "예측값 10개 :  [23.334785, 20.48951, 21.003105, 19.630617, 24.943495, 19.635365, 25.431904, 28.337498, 27.028109, 22.466545]\n",
      "실제값 10개 :  [20.0, 20.0, 19.0, 24.0, 19.0, 24.0, 27.0, 26.0, 22.0, 22.0]\n"
     ]
    }
   ],
   "source": [
    "# 예측값과 실제값 비교\n",
    "predict = list(y_pred.flatten()[0:10:1])\n",
    "real = list(df_22_Y['PM10_1'][0:10:1])\n",
    "print('예측값 10개 : ', predict)\n",
    "print('실제값 10개 : ', real)"
   ]
  },
  {
   "cell_type": "code",
   "execution_count": 429,
   "id": "41084d18-830e-4bdd-b745-ebf477233436",
   "metadata": {
    "tags": []
   },
   "outputs": [
    {
     "name": "stdout",
     "output_type": "stream",
     "text": [
      "mse :  35.75506793943041\n",
      "rmse :  5.979554158917738\n",
      "mae :  3.9863039125018753\n",
      "r2 :  0.9353046882469193\n"
     ]
    }
   ],
   "source": [
    "# test_y 데이터와 y_pred_LR 데이터로 성능을 평가하여 출력해보세요.\n",
    "# 성능지표는 mse와 r2를 이용하세요.\n",
    "print('mse : ', mse(df_22_Y, y_pred))\n",
    "print('rmse : ', mse(df_22_Y, y_pred) ** 0.5)\n",
    "print('mae : ', mae(df_22_Y, y_pred))\n",
    "print('r2 : ', r2_score(df_22_Y, y_pred))"
   ]
  },
  {
   "cell_type": "code",
   "execution_count": null,
   "id": "0cd23451-2962-4b50-a952-9717e1c77b48",
   "metadata": {},
   "outputs": [],
   "source": []
  },
  {
   "cell_type": "code",
   "execution_count": 430,
   "id": "6d5aa8d5-4c9e-4b1a-9e0e-ba19a825b4e3",
   "metadata": {
    "tags": []
   },
   "outputs": [
    {
     "name": "stdout",
     "output_type": "stream",
     "text": [
      "[LightGBM] [Warning] Found whitespace in feature_names, replace with underlines\n",
      "[LightGBM] [Warning] Auto-choosing row-wise multi-threading, the overhead of testing was 0.000938 seconds.\n",
      "You can set `force_row_wise=true` to remove the overhead.\n",
      "And if memory is not enough, you can set `force_col_wise=true`.\n",
      "[LightGBM] [Info] Total Bins 884\n",
      "[LightGBM] [Info] Number of data points in the train set: 8759, number of used features: 8\n",
      "[LightGBM] [Info] Start training from score 38.786049\n"
     ]
    }
   ],
   "source": [
    "# LightGBM\n",
    "import lightgbm \n",
    "lgbm = lightgbm.LGBMRegressor()\n",
    "\n",
    "lgbm.fit(df_21_X, df_21_Y)\n",
    "\n",
    "y_pred = lgbm.predict(df_22_X)"
   ]
  },
  {
   "cell_type": "code",
   "execution_count": 431,
   "id": "b5e0f00a-5a08-4360-a468-30f516cf729f",
   "metadata": {
    "tags": []
   },
   "outputs": [
    {
     "name": "stdout",
     "output_type": "stream",
     "text": [
      "예측값 10개 :  [23.13211023131903, 20.603573926791512, 21.054374213170444, 19.48381886950244, 25.0710642652207, 19.60744579024335, 25.19469118596161, 28.120141741366695, 26.548438053429837, 22.52585730302512]\n",
      "실제값 10개 :  [20.0, 20.0, 19.0, 24.0, 19.0, 24.0, 27.0, 26.0, 22.0, 22.0]\n"
     ]
    }
   ],
   "source": [
    "# 예측값과 실제값 비교\n",
    "predict = list(y_pred.flatten()[0:10:1])\n",
    "real = list(df_22_Y['PM10_1'][0:10:1])\n",
    "print('예측값 10개 : ', predict)\n",
    "print('실제값 10개 : ', real)"
   ]
  },
  {
   "cell_type": "code",
   "execution_count": 432,
   "id": "a919ee08-9ecb-456e-b954-90492153226e",
   "metadata": {
    "tags": []
   },
   "outputs": [
    {
     "name": "stdout",
     "output_type": "stream",
     "text": [
      "mse :  34.31363770680151\n",
      "rmse :  5.857784368411107\n",
      "mae :  3.8534995255957245\n",
      "r2 :  0.9379128158116107\n"
     ]
    }
   ],
   "source": [
    "# test_y 데이터와 y_pred_LR 데이터로 성능을 평가하여 출력해보세요.\n",
    "# 성능지표는 mse와 r2를 이용하세요.\n",
    "print('mse : ', mse(df_22_Y, y_pred))\n",
    "print('rmse : ', mse(df_22_Y, y_pred) ** 0.5)\n",
    "print('mae : ', mae(df_22_Y, y_pred))\n",
    "print('r2 : ', r2_score(df_22_Y, y_pred))"
   ]
  },
  {
   "cell_type": "code",
   "execution_count": 433,
   "id": "67e6d924",
   "metadata": {},
   "outputs": [],
   "source": [
    "# Feature의 중요도 확인\n",
    "df = pd.DataFrame({\n",
    "    'columns' : df_21_X.columns,\n",
    "    'feature_importance' : DT.feature_importances_\n",
    "})"
   ]
  },
  {
   "cell_type": "code",
   "execution_count": 434,
   "id": "0bf485bd-b81a-4a6d-9d57-7fd0671cc8cd",
   "metadata": {
    "tags": []
   },
   "outputs": [],
   "source": [
    "df.sort_values(by='feature_importance', ascending=False, inplace=True)"
   ]
  },
  {
   "cell_type": "code",
   "execution_count": 435,
   "id": "4115d480-5778-47a1-9971-e5075df8fb64",
   "metadata": {
    "tags": []
   },
   "outputs": [
    {
     "data": {
      "image/png": "[encoded data removed]",
      "text/plain": [
       "<Figure size 640x480 with 1 Axes>"
      ]
     },
     "metadata": {},
     "output_type": "display_data"
    }
   ],
   "source": [
    "sns.barplot(x=df['columns'], y=df['feature_importance'], color='purple')\n",
    "plt.xticks(rotation=45)\n",
    "plt.show()"
   ]
  },
  {
   "cell_type": "code",
   "execution_count": 436,
   "id": "cdaf7baf-105d-400b-bb11-7be026f95692",
   "metadata": {
    "tags": []
   },
   "outputs": [],
   "source": [
    "# 모델 별 시각화\n",
    "model = ['LinearRegression', 'KNN', 'Decision Tree', 'Random Forest', 'Gradient Boosting', 'Random Forest', 'LightGBM']\n",
    "r2_score = [0.934, 0.853, 0.938, 0.928, 0.939, 0.935, 0.938]"
   ]
  },
  {
   "cell_type": "code",
   "execution_count": 437,
   "id": "69609cc2-1885-4123-8355-e98639943294",
   "metadata": {
    "tags": []
   },
   "outputs": [],
   "source": [
    "df = pd.DataFrame({\n",
    "    'model' : model,\n",
    "    'r2_score' : r2_score,\n",
    "})"
   ]
  },
  {
   "cell_type": "code",
   "execution_count": 438,
   "id": "47fb0703-4a69-44f8-9140-c7a371b89c85",
   "metadata": {
    "tags": []
   },
   "outputs": [],
   "source": [
    "df.sort_values(by='r2_score', ascending=False, inplace=True)"
   ]
  },
  {
   "cell_type": "code",
   "execution_count": 439,
   "id": "baa2689c-b158-4bf9-a47b-9f6acd357837",
   "metadata": {
    "tags": []
   },
   "outputs": [
    {
     "data": {
      "image/png": "[encoded data removed]",
      "text/plain": [
       "<Figure size 640x480 with 1 Axes>"
      ]
     },
     "metadata": {},
     "output_type": "display_data"
    }
   ],
   "source": [
    "sns.barplot(x=df['model'], y=df['r2_score'], color='purple')\n",
    "plt.xticks(rotation=45)\n",
    "plt.show()"
   ]
  },
  {
   "cell_type": "markdown",
   "id": "c07895fa-d831-4d9c-9bcf-9ec2d7eda2ec",
   "metadata": {
    "tags": []
   },
   "source": [
    "#### **<span style=\"color:blue\">(선택 수행)[4-4] 머신러닝 모델에 대해 성능 최적화 진행</span>**"
   ]
  },
  {
   "cell_type": "markdown",
   "id": "aacb4f2a-d979-4365-85e6-28d64953e741",
   "metadata": {},
   "source": [
    "* 위 머신러닝 모델들에 대해 성능 최적화를 진행해보세요.\n",
    "* Decision Tree에 대해서 파라미터 최적화를 해본다."
   ]
  },
  {
   "cell_type": "code",
   "execution_count": 441,
   "id": "50346246-e00c-44d3-be09-252981be1272",
   "metadata": {},
   "outputs": [],
   "source": [
    "# 아래에 필요한 코드를 작성하고 결과를 확인합니다.\n",
    "model = DTR()\n",
    "model = GridSearchCV(model, {'max_depth' : range(1, 100, 1)}, scoring='r2', cv=10, verbose=1,)"
   ]
  },
  {
   "cell_type": "code",
   "execution_count": 442,
   "id": "2bbce689-7aa5-461a-9a62-a7d9e719d250",
   "metadata": {
    "tags": []
   },
   "outputs": [
    {
     "name": "stdout",
     "output_type": "stream",
     "text": [
      "Fitting 10 folds for each of 99 candidates, totalling 990 fits\n"
     ]
    },
    {
     "data": {
      "text/html": [
       "<style>#sk-container-id-16 {color: black;background-color: white;}#sk-container-id-16 pre{padding: 0;}#sk-container-id-16 div.sk-toggleable {background-color: white;}#sk-container-id-16 label.sk-toggleable__label {cursor: pointer;display: block;width: 100%;margin-bottom: 0;padding: 0.3em;box-sizing: border-box;text-align: center;}#sk-container-id-16 label.sk-toggleable__label-arrow:before {content: \"▸\";float: left;margin-right: 0.25em;color: #696969;}#sk-container-id-16 label.sk-toggleable__label-arrow:hover:before {color: black;}#sk-container-id-16 div.sk-estimator:hover label.sk-toggleable__label-arrow:before {color: black;}#sk-container-id-16 div.sk-toggleable__content {max-height: 0;max-width: 0;overflow: hidden;text-align: left;background-color: #f0f8ff;}#sk-container-id-16 div.sk-toggleable__content pre {margin: 0.2em;color: black;border-radius: 0.25em;background-color: #f0f8ff;}#sk-container-id-16 input.sk-toggleable__control:checked~div.sk-toggleable__content {max-height: 200px;max-width: 100%;overflow: auto;}#sk-container-id-16 input.sk-toggleable__control:checked~label.sk-toggleable__label-arrow:before {content: \"▾\";}#sk-container-id-16 div.sk-estimator input.sk-toggleable__control:checked~label.sk-toggleable__label {background-color: #d4ebff;}#sk-container-id-16 div.sk-label input.sk-toggleable__control:checked~label.sk-toggleable__label {background-color: #d4ebff;}#sk-container-id-16 input.sk-hidden--visually {border: 0;clip: rect(1px 1px 1px 1px);clip: rect(1px, 1px, 1px, 1px);height: 1px;margin: -1px;overflow: hidden;padding: 0;position: absolute;width: 1px;}#sk-container-id-16 div.sk-estimator {font-family: monospace;background-color: #f0f8ff;border: 1px dotted black;border-radius: 0.25em;box-sizing: border-box;margin-bottom: 0.5em;}#sk-container-id-16 div.sk-estimator:hover {background-color: #d4ebff;}#sk-container-id-16 div.sk-parallel-item::after {content: \"\";width: 100%;border-bottom: 1px solid gray;flex-grow: 1;}#sk-container-id-16 div.sk-label:hover label.sk-toggleable__label {background-color: #d4ebff;}#sk-container-id-16 div.sk-serial::before {content: \"\";position: absolute;border-left: 1px solid gray;box-sizing: border-box;top: 0;bottom: 0;left: 50%;z-index: 0;}#sk-container-id-16 div.sk-serial {display: flex;flex-direction: column;align-items: center;background-color: white;padding-right: 0.2em;padding-left: 0.2em;position: relative;}#sk-container-id-16 div.sk-item {position: relative;z-index: 1;}#sk-container-id-16 div.sk-parallel {display: flex;align-items: stretch;justify-content: center;background-color: white;position: relative;}#sk-container-id-16 div.sk-item::before, #sk-container-id-16 div.sk-parallel-item::before {content: \"\";position: absolute;border-left: 1px solid gray;box-sizing: border-box;top: 0;bottom: 0;left: 50%;z-index: -1;}#sk-container-id-16 div.sk-parallel-item {display: flex;flex-direction: column;z-index: 1;position: relative;background-color: white;}#sk-container-id-16 div.sk-parallel-item:first-child::after {align-self: flex-end;width: 50%;}#sk-container-id-16 div.sk-parallel-item:last-child::after {align-self: flex-start;width: 50%;}#sk-container-id-16 div.sk-parallel-item:only-child::after {width: 0;}#sk-container-id-16 div.sk-dashed-wrapped {border: 1px dashed gray;margin: 0 0.4em 0.5em 0.4em;box-sizing: border-box;padding-bottom: 0.4em;background-color: white;}#sk-container-id-16 div.sk-label label {font-family: monospace;font-weight: bold;display: inline-block;line-height: 1.2em;}#sk-container-id-16 div.sk-label-container {text-align: center;}#sk-container-id-16 div.sk-container {/* jupyter's `normalize.less` sets `[hidden] { display: none; }` but bootstrap.min.css set `[hidden] { display: none !important; }` so we also need the `!important` here to be able to override the default hidden behavior on the sphinx rendered scikit-learn.org. See: https://github.com/scikit-learn/scikit-learn/issues/21755 */display: inline-block !important;position: relative;}#sk-container-id-16 div.sk-text-repr-fallback {display: none;}</style><div id=\"sk-container-id-16\" class=\"sk-top-container\"><div class=\"sk-text-repr-fallback\"><pre>GridSearchCV(cv=10, estimator=DecisionTreeRegressor(),\n",
       "             param_grid={&#x27;max_depth&#x27;: range(1, 100)}, scoring=&#x27;r2&#x27;, verbose=1)</pre><b>In a Jupyter environment, please rerun this cell to show the HTML representation or trust the notebook. <br />On GitHub, the HTML representation is unable to render, please try loading this page with nbviewer.org.</b></div><div class=\"sk-container\" hidden><div class=\"sk-item sk-dashed-wrapped\"><div class=\"sk-label-container\"><div class=\"sk-label sk-toggleable\"><input class=\"sk-toggleable__control sk-hidden--visually\" id=\"sk-estimator-id-24\" type=\"checkbox\" ><label for=\"sk-estimator-id-24\" class=\"sk-toggleable__label sk-toggleable__label-arrow\">GridSearchCV</label><div class=\"sk-toggleable__content\"><pre>GridSearchCV(cv=10, estimator=DecisionTreeRegressor(),\n",
       "             param_grid={&#x27;max_depth&#x27;: range(1, 100)}, scoring=&#x27;r2&#x27;, verbose=1)</pre></div></div></div><div class=\"sk-parallel\"><div class=\"sk-parallel-item\"><div class=\"sk-item\"><div class=\"sk-label-container\"><div class=\"sk-label sk-toggleable\"><input class=\"sk-toggleable__control sk-hidden--visually\" id=\"sk-estimator-id-25\" type=\"checkbox\" ><label for=\"sk-estimator-id-25\" class=\"sk-toggleable__label sk-toggleable__label-arrow\">estimator: DecisionTreeRegressor</label><div class=\"sk-toggleable__content\"><pre>DecisionTreeRegressor()</pre></div></div></div><div class=\"sk-serial\"><div class=\"sk-item\"><div class=\"sk-estimator sk-toggleable\"><input class=\"sk-toggleable__control sk-hidden--visually\" id=\"sk-estimator-id-26\" type=\"checkbox\" ><label for=\"sk-estimator-id-26\" class=\"sk-toggleable__label sk-toggleable__label-arrow\">DecisionTreeRegressor</label><div class=\"sk-toggleable__content\"><pre>DecisionTreeRegressor()</pre></div></div></div></div></div></div></div></div></div></div>"
      ],
      "text/plain": [
       "GridSearchCV(cv=10, estimator=DecisionTreeRegressor(),\n",
       "             param_grid={'max_depth': range(1, 100)}, scoring='r2', verbose=1)"
      ]
     },
     "execution_count": 442,
     "metadata": {},
     "output_type": "execute_result"
    }
   ],
   "source": [
    "model.fit(df_21_X, df_21_Y)"
   ]
  },
  {
   "cell_type": "code",
   "execution_count": 443,
   "id": "7a6b451e-7d0c-4538-b155-d53b1c272fb0",
   "metadata": {
    "tags": []
   },
   "outputs": [],
   "source": [
    "y_pred = model.predict(df_22_X)"
   ]
  },
  {
   "cell_type": "code",
   "execution_count": 444,
   "id": "cf9e750a-64f5-42e1-a4b3-2dd387b4b0b8",
   "metadata": {
    "tags": []
   },
   "outputs": [
    {
     "name": "stdout",
     "output_type": "stream",
     "text": [
      "예측값 10개 :  [23.90142021720969, 21.156593977154728, 21.156593977154728, 18.374287974683543, 23.90142021720969, 18.374287974683543, 23.90142021720969, 26.332669322709158, 26.332669322709158, 21.156593977154728]\n",
      "실제값 10개 :  [20.0, 20.0, 19.0, 24.0, 19.0, 24.0, 27.0, 26.0, 22.0, 22.0]\n"
     ]
    }
   ],
   "source": [
    "# 예측값과 실제값 비교\n",
    "predict = list(y_pred.flatten()[0:10:1])\n",
    "real = list(df_22_Y['PM10_1'][0:10:1])\n",
    "print('예측값 10개 : ', predict)\n",
    "print('실제값 10개 : ', real)"
   ]
  },
  {
   "cell_type": "code",
   "execution_count": 445,
   "id": "37198f6a-93a3-4764-90c7-325984ab208d",
   "metadata": {},
   "outputs": [
    {
     "name": "stdout",
     "output_type": "stream",
     "text": [
      "최적의 파라미터 값 :  {'max_depth': 6}\n",
      "최적의 모델 성능 :  0.8561050375070215\n"
     ]
    }
   ],
   "source": [
    "# 최적의 파라미터와 성능 값\n",
    "print('최적의 파라미터 값 : ', model.best_params_)\n",
    "print('최적의 모델 성능 : ', model.best_score_) # GridSearch할 떄 scoring='r2'로 줘서 model.best_score_도 r2 score이다."
   ]
  },
  {
   "cell_type": "code",
   "execution_count": 446,
   "id": "1a9076e2-b283-4080-bfe1-75b6a4ccba5e",
   "metadata": {
    "tags": []
   },
   "outputs": [
    {
     "name": "stdout",
     "output_type": "stream",
     "text": [
      "mse :  47.48323598028081\n",
      "rmse :  6.890808078903432\n",
      "mae :  4.101369692373876\n",
      "r2 :  0.8561050375070215\n"
     ]
    }
   ],
   "source": [
    "# test_y 데이터와 y_pred_LR 데이터로 성능을 평가하여 출력해보세요.\n",
    "# 성능지표는 mse와 r2를 이용하세요.\n",
    "print('mse : ', mse(df_22_Y, y_pred))\n",
    "print('rmse : ', mse(df_22_Y, y_pred) ** 0.5)\n",
    "print('mae : ', mae(df_22_Y, y_pred))\n",
    "print('r2 : ', model.best_score_)"
   ]
  },
  {
   "cell_type": "code",
   "execution_count": 447,
   "id": "e8543ccf-3e18-413d-84ff-4c3e082e38ef",
   "metadata": {
    "tags": []
   },
   "outputs": [
    {
     "data": {
      "image/png": "[encoded data removed]",
      "text/plain": [
       "<Figure size 1000x500 with 1 Axes>"
      ]
     },
     "metadata": {},
     "output_type": "display_data"
    }
   ],
   "source": [
    "# 예측값과 실제값 시각화\n",
    "plt.figure(figsize=(10, 5))\n",
    "plt.plot(df_22_Y, label='actual')\n",
    "plt.plot(y_pred, label='predict')\n",
    "plt.xlabel('데이터 개수')\n",
    "plt.ylabel('PM10') \n",
    "plt.legend()\n",
    "plt.grid()\n",
    "plt.show()"
   ]
  },
  {
   "cell_type": "markdown",
   "id": "199331d5-4587-43d1-afcf-fba4e248df60",
   "metadata": {},
   "source": [
    "* GridSearch로 최적의 파라미터 값을 찾아 모델의 성능을 확인하고자 했는데 오히려 더 안좋아졌다."
   ]
  }
 ],
 "metadata": {
  "kernelspec": {
   "display_name": "Python 3 (ipykernel)",
   "language": "python",
   "name": "python3"
  },
  "language_info": {
   "codemirror_mode": {
    "name": "ipython",
    "version": 3
   },
   "file_extension": ".py",
   "mimetype": "text/x-python",
   "name": "python",
   "nbconvert_exporter": "python",
   "pygments_lexer": "ipython3",
   "version": "3.11.3"
  },
  "vscode": {
   "interpreter": {
    "hash": "f08154012ddadd8e950e6e9e035c7a7b32c136e7647e9b7c77e02eb723a8bedb"
   }
  }
 },
 "nbformat": 4,
 "nbformat_minor": 5
}
